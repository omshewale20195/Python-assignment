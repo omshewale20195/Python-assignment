{
 "cells": [
  {
   "cell_type": "code",
   "execution_count": 6,
   "metadata": {},
   "outputs": [
    {
     "name": "stdout",
     "output_type": "stream",
     "text": [
      "{17, 56, 23, 8, 10, 45}\n",
      "maximum_value= 8\n",
      "minimum_value= 56\n"
     ]
    }
   ],
   "source": [
    "\"\"\"19. Write a Python program to find maximum and the minimum value in a set\n",
    "Given\n",
    "a = {23,45,17,8,56,10}\n",
    "Expected Output:\n",
    "Set A: {17, 56, 23, 8, 10, 45}\n",
    "Maximum of A: 56\n",
    "Minimum of A: 8\"\"\"\n",
    "a = {23,45,17,8,56,10}\n",
    "maximum_value=max(a)\n",
    "minimum_value=min(a)\n",
    "print(a)\n",
    "print(\"maximum_value=\",minimum_value)\n",
    "'break()'\n",
    "print(\"minimum_value=\",maximum_value)"
   ]
  },
  {
   "cell_type": "code",
   "execution_count": null,
   "metadata": {},
   "outputs": [],
   "source": []
  }
 ],
 "metadata": {
  "kernelspec": {
   "display_name": "Python 3",
   "language": "python",
   "name": "python3"
  },
  "language_info": {
   "codemirror_mode": {
    "name": "ipython",
    "version": 3
   },
   "file_extension": ".py",
   "mimetype": "text/x-python",
   "name": "python",
   "nbconvert_exporter": "python",
   "pygments_lexer": "ipython3",
   "version": "3.12.3"
  }
 },
 "nbformat": 4,
 "nbformat_minor": 2
}
