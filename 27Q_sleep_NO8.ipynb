{
 "cells": [
  {
   "cell_type": "code",
   "execution_count": 1,
   "metadata": {},
   "outputs": [
    {
     "name": "stdout",
     "output_type": "stream",
     "text": [
      "Tuple 1: ((18, 23, 2, 9),)\n",
      "Tuple 2: ((10, 3, 11),)\n",
      "Tuples after Concatenating: ((18, 23, 2, 9), (10, 3, 11))\n"
     ]
    }
   ],
   "source": [
    "\"\"\"27. Write a Python program to Concatenate tuples to nested tuples\n",
    "Given:\n",
    "tup1 = (18, 23, 2, 9)\n",
    "tup2 = (10, 3, 11)\n",
    "Expected output:\n",
    "Tuple 1: ((18, 23, 2, 9),)\n",
    "Tuple 2: ((10, 3, 11),)\n",
    "Tuples after Concatenating: ((18, 23, 2, 9), (10, 3, 11))\n",
    "\"\"\"\n",
    "\n",
    "tup1 = (18, 23, 2, 9)\n",
    "tup2 = (10, 3, 11)\n",
    "nested_tup1 = (tup1,)\n",
    "nested_tup2 = (tup2,)\n",
    "print(\"Tuple 1:\", nested_tup1)\n",
    "print(\"Tuple 2:\", nested_tup2)\n",
    "concatenated_tup = (tup1 + tup2)\n",
    "print(\"Tuples after Concatenating:\", concatenated_tup)\n"
   ]
  }
 ],
 "metadata": {
  "kernelspec": {
   "display_name": "Python 3",
   "language": "python",
   "name": "python3"
  },
  "language_info": {
   "codemirror_mode": {
    "name": "ipython",
    "version": 3
   },
   "file_extension": ".py",
   "mimetype": "text/x-python",
   "name": "python",
   "nbconvert_exporter": "python",
   "pygments_lexer": "ipython3",
   "version": "3.12.3"
  }
 },
 "nbformat": 4,
 "nbformat_minor": 2
}
