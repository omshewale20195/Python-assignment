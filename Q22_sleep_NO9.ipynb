{
 "cells": [
  {
   "cell_type": "code",
   "execution_count": 6,
   "metadata": {},
   "outputs": [
    {
     "name": "stdout",
     "output_type": "stream",
     "text": [
      "string_value== QualityThought\n",
      "set_from_string {'h', 't', 'g', 'Q', 'u', 'i', 'T', 'a', 'o', 'l', 'y'}\n"
     ]
    }
   ],
   "source": [
    "\"\"\"22. Write a Python program to Convert String to Set\n",
    "Given\n",
    "s = \"QualityThought\"\n",
    "Expected Output:\n",
    "String Value: QualityThought\n",
    "String Convert to Set: {'Q', 'l', 'u', 'a', 't', 'y', 'i', 'T', 'h', 'o', 'u', 'g', 'h', 't'}\n",
    "\"\"\"\n",
    "s = \"QualityThought\"\n",
    "set_from_string = set(s)\n",
    "print(\"string_value==\",s)\n",
    "print(\"set_from_string\",set_from_string)\n"
   ]
  },
  {
   "cell_type": "code",
   "execution_count": null,
   "metadata": {},
   "outputs": [],
   "source": []
  },
  {
   "cell_type": "code",
   "execution_count": null,
   "metadata": {},
   "outputs": [],
   "source": []
  }
 ],
 "metadata": {
  "kernelspec": {
   "display_name": "Python 3",
   "language": "python",
   "name": "python3"
  },
  "language_info": {
   "codemirror_mode": {
    "name": "ipython",
    "version": 3
   },
   "file_extension": ".py",
   "mimetype": "text/x-python",
   "name": "python",
   "nbconvert_exporter": "python",
   "pygments_lexer": "ipython3",
   "version": "3.12.3"
  }
 },
 "nbformat": 4,
 "nbformat_minor": 2
}
