{
 "cells": [
  {
   "cell_type": "code",
   "execution_count": 4,
   "metadata": {},
   "outputs": [
    {
     "name": "stdout",
     "output_type": "stream",
     "text": [
      "{40, 20} {40, 20}\n"
     ]
    }
   ],
   "source": [
    "\"\"\"13. Write a Python program to create an intersection of sets\n",
    "Given:\n",
    "a = {30,40,70,20}\n",
    "b = {20,50,60,40}\n",
    "Expected output:\n",
    "Intersection of two Sets:\n",
    "{40, 20}\n",
    "{40, 20}\"\"\"\n",
    "a = {30,40,70,20}\n",
    "b = {20,50,60,40}\n",
    "c= a.intersection(b)\n",
    "\n",
    "\n",
    "\n",
    "\n",
    "d=c.intersection(a)\n",
    "print(c,d)"
   ]
  },
  {
   "cell_type": "code",
   "execution_count": null,
   "metadata": {},
   "outputs": [],
   "source": []
  }
 ],
 "metadata": {
  "kernelspec": {
   "display_name": "Python 3",
   "language": "python",
   "name": "python3"
  },
  "language_info": {
   "codemirror_mode": {
    "name": "ipython",
    "version": 3
   },
   "file_extension": ".py",
   "mimetype": "text/x-python",
   "name": "python",
   "nbconvert_exporter": "python",
   "pygments_lexer": "ipython3",
   "version": "3.12.3"
  }
 },
 "nbformat": 4,
 "nbformat_minor": 2
}
