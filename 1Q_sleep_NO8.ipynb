{
 "cells": [
  {
   "cell_type": "code",
   "execution_count": 1,
   "metadata": {},
   "outputs": [
    {
     "name": "stdout",
     "output_type": "stream",
     "text": [
      "(50, 40, 30, 20, 10)\n"
     ]
    }
   ],
   "source": [
    "'''\n",
    "1: Reverse the tuple\n",
    "Given:\n",
    "tuple1 = (10, 20, 30, 40, 50)\n",
    "Expected output:\n",
    "(50, 40, 30, 20, 10)\n",
    "'''\n",
    "tuple1 = (10, 20, 30, 40, 50)\n",
    "tuple_reversed=tuple1[: : -1]\n",
    "print(tuple_reversed)"
   ]
  }
 ],
 "metadata": {
  "kernelspec": {
   "display_name": "Python 3",
   "language": "python",
   "name": "python3"
  },
  "language_info": {
   "codemirror_mode": {
    "name": "ipython",
    "version": 3
   },
   "file_extension": ".py",
   "mimetype": "text/x-python",
   "name": "python",
   "nbconvert_exporter": "python",
   "pygments_lexer": "ipython3",
   "version": "3.12.3"
  }
 },
 "nbformat": 4,
 "nbformat_minor": 2
}
