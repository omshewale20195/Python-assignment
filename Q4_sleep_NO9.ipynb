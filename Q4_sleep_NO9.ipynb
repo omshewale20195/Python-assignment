{
 "cells": [
  {
   "cell_type": "code",
   "execution_count": 3,
   "metadata": {},
   "outputs": [
    {
     "name": "stdout",
     "output_type": "stream",
     "text": [
      "{10, 30}\n"
     ]
    }
   ],
   "source": [
    "\"\"\"4. Update the first set with items that do not exist in the second set\n",
    "Given two Python sets, write a Python program to update the first set with items that\n",
    "exist only in the first set and not in the second set.\n",
    "Given:\n",
    "set1 = {10, 20, 30}\n",
    "set2 = {20, 40, 50}\n",
    "Expected output:\n",
    "set1 {10, 30}\"\"\"\n",
    "set1 = {10,20,30}\n",
    "set2 = {20,40,50}\n",
    "set1.difference_update(set2)\n",
    "print(set1)"
   ]
  },
  {
   "cell_type": "code",
   "execution_count": null,
   "metadata": {},
   "outputs": [],
   "source": []
  }
 ],
 "metadata": {
  "kernelspec": {
   "display_name": "Python 3",
   "language": "python",
   "name": "python3"
  },
  "language_info": {
   "codemirror_mode": {
    "name": "ipython",
    "version": 3
   },
   "file_extension": ".py",
   "mimetype": "text/x-python",
   "name": "python",
   "nbconvert_exporter": "python",
   "pygments_lexer": "ipython3",
   "version": "3.12.3"
  }
 },
 "nbformat": 4,
 "nbformat_minor": 2
}
