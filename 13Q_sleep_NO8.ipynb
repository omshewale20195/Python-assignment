{
 "cells": [
  {
   "cell_type": "code",
   "execution_count": 1,
   "metadata": {},
   "outputs": [
    {
     "name": "stdout",
     "output_type": "stream",
     "text": [
      "('aditya',)\n"
     ]
    }
   ],
   "source": [
    "'''     13. Write a Python program to create a tuple with numbers and print one item\n",
    "'''\n",
    "mixed_tuple = (\"aditya\", True, 12, 2342, 4546, 423.434, {'key': 'value'}, (1, 2, 3))\n",
    "mixed_tuple1=mixed_tuple[0:1]\n",
    "print(mixed_tuple1)"
   ]
  }
 ],
 "metadata": {
  "kernelspec": {
   "display_name": "Python 3",
   "language": "python",
   "name": "python3"
  },
  "language_info": {
   "codemirror_mode": {
    "name": "ipython",
    "version": 3
   },
   "file_extension": ".py",
   "mimetype": "text/x-python",
   "name": "python",
   "nbconvert_exporter": "python",
   "pygments_lexer": "ipython3",
   "version": "3.12.3"
  }
 },
 "nbformat": 4,
 "nbformat_minor": 2
}
