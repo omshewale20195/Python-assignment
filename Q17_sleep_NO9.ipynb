{
 "cells": [
  {
   "cell_type": "code",
   "execution_count": 7,
   "metadata": {},
   "outputs": [
    {
     "name": "stdout",
     "output_type": "stream",
     "text": [
      "First Method using difference ()\n",
      "{40, 10, 20, 30} \n",
      " {80, 90, 100}\n",
      "Second Method Using operator (-)\n",
      "Difference of a and b: {40, 10, 20, 30}\n",
      "Difference of b and a: {80, 90, 100}\n"
     ]
    }
   ],
   "source": [
    "\"\"\"17. Write a Python program to find the elements in a given set that are not in\n",
    "another set\n",
    "Given:\n",
    "X= {50, 20, 70, 40, 10, 60, 30}\n",
    "Y= {80, 50, 100, 70, 90, 60}\n",
    "Expected output:\n",
    "First Method using difference ()\n",
    "Difference of x and y: {40, 10, 20, 30}\n",
    "Difference of y and x: {80, 90, 100}\n",
    "Second Method Using operator (-)\n",
    "Difference of x and y: {40, 10, 20, 30}\n",
    "Difference of y and x: {80, 90, 100}\"\"\"\n",
    "x= {50, 20, 70, 40, 10, 60, 30}\n",
    "y= {80, 50, 100, 70, 90, 60}\n",
    "print(\"First Method using difference ()\")\n",
    "a =x.difference(y)\n",
    "b =y.difference(x)\n",
    "\n",
    "print(a,'\\n',b)\n",
    "print(\"Second Method Using operator (-)\")\n",
    "\n",
    "difference_x_y = x -  y    \n",
    "\n",
    "difference_y_x = y - x\n",
    "print(f\"Difference of a and b: {difference_x_y}\\nDifference of b and a: {difference_y_x}\")"
   ]
  },
  {
   "cell_type": "code",
   "execution_count": null,
   "metadata": {},
   "outputs": [],
   "source": []
  }
 ],
 "metadata": {
  "kernelspec": {
   "display_name": "Python 3",
   "language": "python",
   "name": "python3"
  },
  "language_info": {
   "codemirror_mode": {
    "name": "ipython",
    "version": 3
   },
   "file_extension": ".py",
   "mimetype": "text/x-python",
   "name": "python",
   "nbconvert_exporter": "python",
   "pygments_lexer": "ipython3",
   "version": "3.12.3"
  }
 },
 "nbformat": 4,
 "nbformat_minor": 2
}
