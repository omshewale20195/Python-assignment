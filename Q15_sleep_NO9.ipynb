{
 "cells": [
  {
   "cell_type": "code",
   "execution_count": 19,
   "metadata": {},
   "outputs": [
    {
     "name": "stdout",
     "output_type": "stream",
     "text": [
      "Difference of a - b: {80, 70, 30}\n",
      "Difference of b - a: {90, 10, 60}\n"
     ]
    }
   ],
   "source": [
    "\"\"\"15. Write a Python program to create set difference\n",
    "Given:\n",
    "a = {30,40,70,20,80,50}\n",
    "b = {20,50,60,40,90,10}\n",
    "Expected output:\n",
    "Difference of a - b: {80, 70, 30}\n",
    "Difference of b - a: {90, 10, 60}\"\"\"\n",
    "a = {30,40,70,20,80,50}\n",
    "b = {20,50,60,40,90,10}\n",
    "difference_a_b = a -  b    \n",
    "\n",
    "difference_b_a = b  -a\n",
    "print(f\"Difference of a - b: {difference_a_b}\")\n",
    "print(f\"Difference of b - a: {difference_b_a}\")"
   ]
  },
  {
   "cell_type": "code",
   "execution_count": null,
   "metadata": {},
   "outputs": [],
   "source": []
  }
 ],
 "metadata": {
  "kernelspec": {
   "display_name": "Python 3",
   "language": "python",
   "name": "python3"
  },
  "language_info": {
   "codemirror_mode": {
    "name": "ipython",
    "version": 3
   },
   "file_extension": ".py",
   "mimetype": "text/x-python",
   "name": "python",
   "nbconvert_exporter": "python",
   "pygments_lexer": "ipython3",
   "version": "3.12.3"
  }
 },
 "nbformat": 4,
 "nbformat_minor": 2
}
