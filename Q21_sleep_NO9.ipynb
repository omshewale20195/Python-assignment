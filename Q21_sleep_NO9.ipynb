{
 "cells": [
  {
   "cell_type": "code",
   "execution_count": 8,
   "metadata": {},
   "outputs": [
    {
     "name": "stdout",
     "output_type": "stream",
     "text": [
      "{1, 2, 3, 4, 5, 6, 7, 8} {2, 6, 8, 43, 11, 76, 48, 55}\n",
      "Intersection of Two Lists:  {8, 2, 6}\n"
     ]
    }
   ],
   "source": [
    "\"\"\"21. Write a Python program to Intersection of two lists\n",
    "Given\n",
    "a = [1,2,3,4,5,6,7,8]\n",
    "b = [11,2,43,48,55,6,76,8]\n",
    "Expected Output:\n",
    "X: {1, 2, 3, 4, 5, 6, 7, 8}\n",
    "Y: {2, 6, 8, 43, 11, 76, 48, 55}\n",
    "Intersection of Two Lists: [8, 2, 6]\"\"\"\n",
    "a = [1,2,3,4,5,6,7,8]\n",
    "b = [11,2,43,48,55,6,76,8]\n",
    "set_a = set(a)\n",
    "set_b = set(b)\n",
    "intersection=(set_a & set_b)\n",
    "print(set_a,set_b)\n",
    "print(\"Intersection of Two Lists: \",intersection)\n"
   ]
  },
  {
   "cell_type": "code",
   "execution_count": null,
   "metadata": {},
   "outputs": [],
   "source": []
  }
 ],
 "metadata": {
  "kernelspec": {
   "display_name": "Python 3",
   "language": "python",
   "name": "python3"
  },
  "language_info": {
   "codemirror_mode": {
    "name": "ipython",
    "version": 3
   },
   "file_extension": ".py",
   "mimetype": "text/x-python",
   "name": "python",
   "nbconvert_exporter": "python",
   "pygments_lexer": "ipython3",
   "version": "3.12.3"
  }
 },
 "nbformat": 4,
 "nbformat_minor": 2
}
