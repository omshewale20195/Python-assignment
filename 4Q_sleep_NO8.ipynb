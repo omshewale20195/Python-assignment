{
 "cells": [
  {
   "cell_type": "code",
   "execution_count": 2,
   "metadata": {},
   "outputs": [
    {
     "name": "stdout",
     "output_type": "stream",
     "text": [
      "10\n",
      "20\n",
      "30\n",
      "40\n"
     ]
    }
   ],
   "source": [
    "'''\n",
    "4: Unpack the tuple into 4 variables\n",
    "Write a program to unpack the following tuple into four variables and display each\n",
    "variable.\n",
    "Given:\n",
    "tuple1 = (10, 20, 30, 40)\n",
    "Expected output:\n",
    "tuple1 = (10, 20, 30, 40)\n",
    "# Your code\n",
    "print(a) # should print 10\n",
    "print(b) # should print 20\n",
    "print(c) # should print 30\n",
    "print(d) # should print 40\n",
    "'''\n",
    "tuple1 = (10, 20, 30, 40)\n",
    "a,b,c,d=(tuple1)\n",
    "print(a) # should print 10\n",
    "print(b) # should print 20\n",
    "print(c) # should print 30\n",
    "print(d) # should print 40"
   ]
  },
  {
   "cell_type": "code",
   "execution_count": null,
   "metadata": {},
   "outputs": [],
   "source": []
  }
 ],
 "metadata": {
  "kernelspec": {
   "display_name": "Python 3",
   "language": "python",
   "name": "python3"
  },
  "language_info": {
   "codemirror_mode": {
    "name": "ipython",
    "version": 3
   },
   "file_extension": ".py",
   "mimetype": "text/x-python",
   "name": "python",
   "nbconvert_exporter": "python",
   "pygments_lexer": "ipython3",
   "version": "3.12.3"
  }
 },
 "nbformat": 4,
 "nbformat_minor": 2
}
