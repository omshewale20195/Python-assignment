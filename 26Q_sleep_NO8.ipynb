{
 "cells": [
  {
   "cell_type": "code",
   "execution_count": 1,
   "metadata": {},
   "outputs": [
    {
     "name": "stdout",
     "output_type": "stream",
     "text": [
      "Original Tuple: (10, 20, 30, 40, 50)\n",
      "Modified Tuple: (10, 20, 33, 40, 50)\n"
     ]
    }
   ],
   "source": [
    "'''26. Modify the tuple\n",
    "Given:\n",
    "t1 = (10,20,30,40,50)\n",
    "Expected output:\n",
    "Original Tuple: (10, 20, 30, 40, 50)\n",
    "Modify Tuple: (10, 20, 33, 40, 50)'''\n",
    "t1 = (10, 20, 30, 40, 50)\n",
    "print(\"Original Tuple:\", t1)\n",
    "t1_list = list(t1)\n",
    "t1_list[2] = 33\n",
    "modified_t1 = tuple(t1_list)\n",
    "print(\"Modified Tuple:\", modified_t1)\n"
   ]
  },
  {
   "cell_type": "code",
   "execution_count": null,
   "metadata": {},
   "outputs": [],
   "source": []
  },
  {
   "cell_type": "code",
   "execution_count": null,
   "metadata": {},
   "outputs": [],
   "source": []
  }
 ],
 "metadata": {
  "kernelspec": {
   "display_name": "Python 3",
   "language": "python",
   "name": "python3"
  },
  "language_info": {
   "codemirror_mode": {
    "name": "ipython",
    "version": 3
   },
   "file_extension": ".py",
   "mimetype": "text/x-python",
   "name": "python",
   "nbconvert_exporter": "python",
   "pygments_lexer": "ipython3",
   "version": "3.12.3"
  }
 },
 "nbformat": 4,
 "nbformat_minor": 2
}
