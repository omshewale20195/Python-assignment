{
 "cells": [
  {
   "cell_type": "code",
   "execution_count": 3,
   "metadata": {},
   "outputs": [
    {
     "name": "stdout",
     "output_type": "stream",
     "text": [
      "Two given sets have no Elements in Common:\n",
      "Compare A and B: True\n",
      "Compare B and Z: False\n",
      "Compare A and Z: True\n"
     ]
    }
   ],
   "source": [
    "\"\"\"\n",
    "18. Write a Python program to check if two given sets have no elements in\n",
    "common\n",
    "Given\n",
    "a = {23,45,78,8,56}\n",
    "b = {42,55,26,87}\n",
    "z = {87,46}\n",
    "Expected output:\n",
    "Two given sets have no Elements in Common:\n",
    "Compare A and B: True\n",
    "Compare B and Z: False\n",
    "Compare A and Z: True\n",
    "\"\"\"\n",
    "# Given sets\n",
    "a = {23, 45, 78, 8, 56}\n",
    "b = {42, 55, 26, 87}\n",
    "z = {87, 46}\n",
    "\"\"\"\n",
    "\n",
    "# Check if sets have no elements in common\n",
    "def no_elements_in_common(set1, set2):\n",
    "    return set1.isdisjoint(set2)\n",
    "\n",
    "# Compare sets and print results\n",
    "print(\"Two given sets have no Elements in Common:\")\n",
    "print(\"Compare A and B:\", no_elements_in_common(a, b))\n",
    "print(\"Compare B and Z:\", no_elements_in_common(b, z))\n",
    "print(\"Compare A and Z:\", no_elements_in_common(a, z))\"\"\"\n",
    "\n"
   ]
  },
  {
   "cell_type": "code",
   "execution_count": null,
   "metadata": {},
   "outputs": [],
   "source": []
  }
 ],
 "metadata": {
  "kernelspec": {
   "display_name": "Python 3",
   "language": "python",
   "name": "python3"
  },
  "language_info": {
   "codemirror_mode": {
    "name": "ipython",
    "version": 3
   },
   "file_extension": ".py",
   "mimetype": "text/x-python",
   "name": "python",
   "nbconvert_exporter": "python",
   "pygments_lexer": "ipython3",
   "version": "3.12.3"
  }
 },
 "nbformat": 4,
 "nbformat_minor": 2
}
