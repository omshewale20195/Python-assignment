{
 "cells": [
  {
   "cell_type": "code",
   "execution_count": 2,
   "metadata": {},
   "outputs": [
    {
     "name": "stdout",
     "output_type": "stream",
     "text": [
      "[11, [222, 33], 44, 55]\n"
     ]
    }
   ],
   "source": [
    "'''\n",
    "7: Modify the tuple\n",
    "Given is a nested tuple. Write a program to modify the first item (22) of a list inside a\n",
    "following tuple to 222\n",
    "Given:\n",
    "tuple1 = (11, [22, 33], 44, 55)\n",
    "Expected output:\n",
    "tuple1: (11, [222, 33], 44, 55)\n",
    "'''\n",
    "tuple1=(11,[22,33],44,55)\n",
    "list1=list(tuple1)\n",
    "list1[1][0]=222\n",
    "print(list1)"
   ]
  }
 ],
 "metadata": {
  "kernelspec": {
   "display_name": "Python 3",
   "language": "python",
   "name": "python3"
  },
  "language_info": {
   "codemirror_mode": {
    "name": "ipython",
    "version": 3
   },
   "file_extension": ".py",
   "mimetype": "text/x-python",
   "name": "python",
   "nbconvert_exporter": "python",
   "pygments_lexer": "ipython3",
   "version": "3.12.3"
  }
 },
 "nbformat": 4,
 "nbformat_minor": 2
}
