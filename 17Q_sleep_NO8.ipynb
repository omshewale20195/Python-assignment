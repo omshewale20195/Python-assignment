{
 "cells": [
  {
   "cell_type": "code",
   "execution_count": 1,
   "metadata": {},
   "outputs": [
    {
     "name": "stdout",
     "output_type": "stream",
     "text": [
      "element 50does not exit in the tuple\n"
     ]
    }
   ],
   "source": [
    "'''17. Write a Python program to check whether an element exists within a tuple'''\n",
    "tuple1=(1,32,4,6,5326,5,6456,243,)\n",
    "element_to_check = 50 \n",
    "element_exits = element_to_check in tuple1\n",
    "if element_exits:\n",
    "    print(f\"element {elementnt_to_check} exit in tuple\")\n",
    "else:\n",
    "    print(f\"element {element_to_check}does not exit in the tuple\")"
   ]
  }
 ],
 "metadata": {
  "kernelspec": {
   "display_name": "Python 3",
   "language": "python",
   "name": "python3"
  },
  "language_info": {
   "codemirror_mode": {
    "name": "ipython",
    "version": 3
   },
   "file_extension": ".py",
   "mimetype": "text/x-python",
   "name": "python",
   "nbconvert_exporter": "python",
   "pygments_lexer": "ipython3",
   "version": "3.12.3"
  }
 },
 "nbformat": 4,
 "nbformat_minor": 2
}
