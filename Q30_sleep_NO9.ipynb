{
 "cells": [
  {
   "cell_type": "code",
   "execution_count": 5,
   "metadata": {},
   "outputs": [
    {
     "name": "stdout",
     "output_type": "stream",
     "text": [
      "10 20 30 40 True\n",
      "10 20 30 40 False\n"
     ]
    }
   ],
   "source": [
    "\"\"\"30. Write a Python program to Check if a specific value exists in a set\n",
    "Given\n",
    "s = {10,20,30,40,50}\n",
    "Expected Output:\n",
    "False\n",
    "True\"\"\"\n",
    "s = {10,20,30,40,50}\n",
    "print(10,20,30,40,50 in s)\n",
    "print(10,20,30,40,50 not in s)"
   ]
  },
  {
   "cell_type": "code",
   "execution_count": null,
   "metadata": {},
   "outputs": [],
   "source": []
  }
 ],
 "metadata": {
  "kernelspec": {
   "display_name": "Python 3",
   "language": "python",
   "name": "python3"
  },
  "language_info": {
   "name": "python",
   "version": "3.12.3"
  }
 },
 "nbformat": 4,
 "nbformat_minor": 2
}
