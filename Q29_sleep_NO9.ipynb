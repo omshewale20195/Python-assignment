{
 "cells": [
  {
   "cell_type": "code",
   "execution_count": 9,
   "metadata": {},
   "outputs": [
    {
     "name": "stdout",
     "output_type": "stream",
     "text": [
      "union :  {('J', 'O', 'E'), 5, 6, 7, 8, 9, 10, 11, 12, 13, 14, ('Python', 'C'), 20}\n",
      "symmentric : {5, 6, 7, 8, 9, 12, ('Python', 'C'), 13, 14, 20, ('J', 'O', 'E')}\n",
      "interaction :  {10, 11}\n"
     ]
    }
   ],
   "source": [
    "\"\"\"29. Find the union, symmetric difference, and intersection of the two sets. Print\n",
    "the results of each operation\n",
    "Given\n",
    "Set 1: {5, 6, 7, 8, 9, 10, 11, 12, 13, 14}\n",
    "Set 2: {20, ('Python', 'C'), 10, 11, ('J', 'O', 'E')}\n",
    "Expected Output:\n",
    "Union: {5, 6, 7, 8, 9, 10, 11, 12, 13, 14, ('Python', 'C'), 20, ('J', 'O', 'E')}\n",
    "Symmetric Difference: {5, 6, 7, 8, 9, ('Python', 'C'), 12, 13, 14, 20, ('J', 'O', 'E')}\n",
    "Intersection: {10, 11}\n",
    "\"\"\"\n",
    "a={5, 6, 7, 8, 9, 10, 11, 12, 13, 14}\n",
    "b={20, ('Python', 'C'), 10, 11, ('J', 'O', 'E')}\n",
    "print((\"union : \"),a.union(b))\n",
    "print((\"symmentric :\"),a.symmetric_difference(b))\n",
    "print(\"interaction : \",a.intersection(b))\n"
   ]
  },
  {
   "cell_type": "code",
   "execution_count": null,
   "metadata": {},
   "outputs": [],
   "source": []
  }
 ],
 "metadata": {
  "kernelspec": {
   "display_name": "Python 3",
   "language": "python",
   "name": "python3"
  },
  "language_info": {
   "codemirror_mode": {
    "name": "ipython",
    "version": 3
   },
   "file_extension": ".py",
   "mimetype": "text/x-python",
   "name": "python",
   "nbconvert_exporter": "python",
   "pygments_lexer": "ipython3",
   "version": "3.12.3"
  }
 },
 "nbformat": 4,
 "nbformat_minor": 2
}
