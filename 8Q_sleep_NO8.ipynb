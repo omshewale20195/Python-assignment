{
 "cells": [
  {
   "cell_type": "code",
   "execution_count": 1,
   "metadata": {},
   "outputs": [
    {
     "name": "stdout",
     "output_type": "stream",
     "text": [
      "(('c', 11), ('a', 23), ('d', 29), ('b', 37))\n"
     ]
    }
   ],
   "source": [
    "'''\n",
    "8: Sort a tuple of tuples by 2nd item\n",
    "Given:\n",
    "tuple1 = (('a', 23), ('b', 37), ('c', 11), ('d',29))\n",
    "Expected output:\n",
    "(('c', 11), ('a', 23), ('d', 29), ('b', 37))\n",
    "'''\n",
    "tuple1 = (('a', 23), ('b', 37), ('c', 11), ('d',29))\n",
    "sorted_tuple =tuple((sorted(tuple1,key=lambda x:x[1] ))) \n",
    "print(sorted_tuple)"
   ]
  }
 ],
 "metadata": {
  "kernelspec": {
   "display_name": "Python 3",
   "language": "python",
   "name": "python3"
  },
  "language_info": {
   "codemirror_mode": {
    "name": "ipython",
    "version": 3
   },
   "file_extension": ".py",
   "mimetype": "text/x-python",
   "name": "python",
   "nbconvert_exporter": "python",
   "pygments_lexer": "ipython3",
   "version": "3.12.3"
  }
 },
 "nbformat": 4,
 "nbformat_minor": 2
}
