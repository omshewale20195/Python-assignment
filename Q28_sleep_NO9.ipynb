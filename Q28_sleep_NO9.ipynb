{
 "cells": [
  {
   "cell_type": "code",
   "execution_count": 1,
   "metadata": {},
   "outputs": [
    {
     "data": {
      "text/plain": [
       "{10, 20, 30, 40, 50, 60, 70, 80}"
      ]
     },
     "execution_count": 1,
     "metadata": {},
     "output_type": "execute_result"
    }
   ],
   "source": [
    "\"\"\"28. Write a Python program to return a new set with unique items from both\n",
    "sets by removing duplicates\n",
    "Given\n",
    "x = {10, 20, 30, 40, 50}\n",
    "y = {40, 50, 60, 70,80}\n",
    "Expected Output:\n",
    "{70, 40, 10, 80, 50, 20, 60, 30}\"\"\"\n",
    "x = {10, 20, 30, 40, 50}\n",
    "y = {40, 50, 60, 70,80}\n",
    "x.union(y)\n"
   ]
  },
  {
   "cell_type": "code",
   "execution_count": null,
   "metadata": {},
   "outputs": [],
   "source": []
  }
 ],
 "metadata": {
  "kernelspec": {
   "display_name": "Python 3",
   "language": "python",
   "name": "python3"
  },
  "language_info": {
   "codemirror_mode": {
    "name": "ipython",
    "version": 3
   },
   "file_extension": ".py",
   "mimetype": "text/x-python",
   "name": "python",
   "nbconvert_exporter": "python",
   "pygments_lexer": "ipython3",
   "version": "3.12.3"
  }
 },
 "nbformat": 4,
 "nbformat_minor": 2
}
