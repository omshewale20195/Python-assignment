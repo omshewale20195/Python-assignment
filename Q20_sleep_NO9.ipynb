{
 "cells": [
  {
   "cell_type": "code",
   "execution_count": 3,
   "metadata": {},
   "outputs": [
    {
     "data": {
      "text/plain": [
       "{}"
      ]
     },
     "execution_count": 3,
     "metadata": {},
     "output_type": "execute_result"
    }
   ],
   "source": [
    "\"\"\"20. Write a Python program to remove all elements from a given set\n",
    "Given\n",
    "color = {\"Red\",\"Green\",\"Pink\",\"White\",\"Black\",\"Yellow\",\"Blue\"}\n",
    "Expected Output:\n",
    "After Remove all Elements give Sets: set()\"\"\"\n",
    "color = {\"Red\",\"Green\",\"Pink\",\"White\",\"Black\",\"Yellow\",\"Blue\"}\n",
    "color={}\n",
    "color"
   ]
  },
  {
   "cell_type": "code",
   "execution_count": null,
   "metadata": {},
   "outputs": [],
   "source": []
  }
 ],
 "metadata": {
  "kernelspec": {
   "display_name": "Python 3",
   "language": "python",
   "name": "python3"
  },
  "language_info": {
   "codemirror_mode": {
    "name": "ipython",
    "version": 3
   },
   "file_extension": ".py",
   "mimetype": "text/x-python",
   "name": "python",
   "nbconvert_exporter": "python",
   "pygments_lexer": "ipython3",
   "version": "3.12.3"
  }
 },
 "nbformat": 4,
 "nbformat_minor": 2
}
