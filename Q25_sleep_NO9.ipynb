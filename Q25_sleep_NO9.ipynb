{
 "cells": [
  {
   "cell_type": "code",
   "execution_count": 1,
   "metadata": {},
   "outputs": [
    {
     "name": "stdout",
     "output_type": "stream",
     "text": [
      "string_from_set = ('P', 'L', 'A', 'E')\n"
     ]
    }
   ],
   "source": [
    "\"\"\"25. Write a Python program to Convert Set to Tuple\n",
    "Given\n",
    "val = {‘A’, ’P’, ’P’, ’L’, ’E’}\n",
    "Expected Output:\n",
    "Convert Set into List (‘A’, ’P’, ’P’, ’L’, ’E’\"\"\"\n",
    "val = {'A', 'P', 'L', 'E'}\n",
    "string_from_set=tuple(val)\n",
    "print(\"string_from_set =\",string_from_set)"
   ]
  },
  {
   "cell_type": "code",
   "execution_count": null,
   "metadata": {},
   "outputs": [],
   "source": []
  }
 ],
 "metadata": {
  "kernelspec": {
   "display_name": "Python 3",
   "language": "python",
   "name": "python3"
  },
  "language_info": {
   "codemirror_mode": {
    "name": "ipython",
    "version": 3
   },
   "file_extension": ".py",
   "mimetype": "text/x-python",
   "name": "python",
   "nbconvert_exporter": "python",
   "pygments_lexer": "ipython3",
   "version": "3.12.3"
  }
 },
 "nbformat": 4,
 "nbformat_minor": 2
}
