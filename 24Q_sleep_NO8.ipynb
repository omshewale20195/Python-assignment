{
 "cells": [
  {
   "cell_type": "code",
   "execution_count": 2,
   "metadata": {},
   "outputs": [
    {
     "name": "stdout",
     "output_type": "stream",
     "text": [
      "11\n",
      "22\n",
      "33\n",
      "44\n",
      "55\n"
     ]
    }
   ],
   "source": [
    "\"\"\"24. Unpack the tuple into 5 variables\n",
    "Given:\n",
    "tuple1= (11, 22, 333, 44, 55)\n",
    "Expected output:\n",
    "11\n",
    "22\n",
    "33\n",
    "44\n",
    "55\"\"\"\n",
    "tuple=(11,22,33,44,55)\n",
    "a,b,c,d,e=tuple\n",
    "print(a)\n",
    "print(b)\n",
    "print(c)\n",
    "print(d) \n",
    "print(e)"
   ]
  }
 ],
 "metadata": {
  "kernelspec": {
   "display_name": "Python 3",
   "language": "python",
   "name": "python3"
  },
  "language_info": {
   "codemirror_mode": {
    "name": "ipython",
    "version": 3
   },
   "file_extension": ".py",
   "mimetype": "text/x-python",
   "name": "python",
   "nbconvert_exporter": "python",
   "pygments_lexer": "ipython3",
   "version": "3.12.3"
  }
 },
 "nbformat": 4,
 "nbformat_minor": 2
}
