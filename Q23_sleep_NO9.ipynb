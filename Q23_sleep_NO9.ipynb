{
 "cells": [
  {
   "cell_type": "code",
   "execution_count": 8,
   "metadata": {},
   "outputs": [
    {
     "name": "stdout",
     "output_type": "stream",
     "text": [
      "String Value: {'T', 'g', 'u', 'h', 'y', 'a', 'i', 'o', 'Q', 't'}\n",
      "Type of string: <class 'set'>\n",
      "Set Convert to String: {'T', 'g', 'u', 'h', 'y', 'a', 'i', 'o', 'Q', 't'}\n",
      "Type of String: <class 'str'>\n"
     ]
    }
   ],
   "source": [
    "\"\"\"23. Write a Python program to Convert Set to String\n",
    "Given\n",
    "S= {'Q', 'i', 'u', 'a', 't', 'y', 'i', 'T', 'h', 'o', 'u', 'g', 'h', 't'}\n",
    "Expected Output:\n",
    "String Value: {'Q', 'i', 'u', 'a', 't', 'y', 'i', 'T', 'h', 'o', 'u', 'g', 'h', 't'}\n",
    "Type of string: <class 'set'>\n",
    "Set Convert to String: {'Q', 'i', 'u', 'a', 't', 'y', 'i', 'T', 'h', 'o', 'u', 'g', 'h', 't'}\n",
    "Type of String: <class 'str'>\n",
    "\"\"\"\n",
    "S= {'Q', 'i', 'u', 'a', 't', 'y', 'i', 'T', 'h', 'o', 'u', 'g', 'h', 't'}\n",
    "string_from_set = str(S)\n",
    "\n",
    "\n",
    "print(\"String Value:\", S)\n",
    "print(\"Type of string:\", type(S))\n",
    "print(\"Set Convert to String:\", string_from_set)\n",
    "print(\"Type of String:\", type(string_from_set))"
   ]
  },
  {
   "cell_type": "code",
   "execution_count": null,
   "metadata": {},
   "outputs": [],
   "source": []
  },
  {
   "cell_type": "code",
   "execution_count": null,
   "metadata": {},
   "outputs": [],
   "source": []
  }
 ],
 "metadata": {
  "kernelspec": {
   "display_name": "Python 3",
   "language": "python",
   "name": "python3"
  },
  "language_info": {
   "codemirror_mode": {
    "name": "ipython",
    "version": 3
   },
   "file_extension": ".py",
   "mimetype": "text/x-python",
   "name": "python",
   "nbconvert_exporter": "python",
   "pygments_lexer": "ipython3",
   "version": "3.12.3"
  }
 },
 "nbformat": 4,
 "nbformat_minor": 2
}
