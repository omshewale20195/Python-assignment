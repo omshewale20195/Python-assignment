{
 "cells": [
  {
   "cell_type": "code",
   "execution_count": 2,
   "metadata": {},
   "outputs": [
    {
     "name": "stdout",
     "output_type": "stream",
     "text": [
      "Set Convert to String: ['L', 'E', 'A', 'P']\n"
     ]
    }
   ],
   "source": [
    "\"\"\"24. Write a Python program to Convert Set to List\n",
    "Given\n",
    "val = {‘A’, ’P’, ’P’, ’L’, ’E’}\n",
    "Expected Output:\n",
    "Convert Set into List [‘A’, ’P’, ’P’, ’L’, ’E’]\"\"\"\n",
    "val = {'A', 'P', 'L', 'E'}\n",
    "string_from_set=list(val)\n",
    "print(\"Set Convert to String:\", string_from_set)"
   ]
  },
  {
   "cell_type": "code",
   "execution_count": null,
   "metadata": {},
   "outputs": [],
   "source": []
  }
 ],
 "metadata": {
  "kernelspec": {
   "display_name": "Python 3",
   "language": "python",
   "name": "python3"
  },
  "language_info": {
   "codemirror_mode": {
    "name": "ipython",
    "version": 3
   },
   "file_extension": ".py",
   "mimetype": "text/x-python",
   "name": "python",
   "nbconvert_exporter": "python",
   "pygments_lexer": "ipython3",
   "version": "3.12.3"
  }
 },
 "nbformat": 4,
 "nbformat_minor": 2
}
