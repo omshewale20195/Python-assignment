{
 "cells": [
  {
   "cell_type": "code",
   "execution_count": 4,
   "metadata": {},
   "outputs": [
    {
     "name": "stdout",
     "output_type": "stream",
     "text": [
      "('aditya', True, 12, 2342, 4546, 423.434, {'key': 'value'}, (1, 2, 3))\n"
     ]
    }
   ],
   "source": [
    "'''\n",
    "12. Write a Python program to create a tuple with different data types\n",
    "'''\n",
    "mixed_tuple = (\"aditya\", True, 12, 2342, 4546, 423.434, {'key': 'value'}, (1, 2, 3))\n",
    "print(mixed_tuple)\n"
   ]
  }
 ],
 "metadata": {
  "kernelspec": {
   "display_name": "Python 3",
   "language": "python",
   "name": "python3"
  },
  "language_info": {
   "codemirror_mode": {
    "name": "ipython",
    "version": 3
   },
   "file_extension": ".py",
   "mimetype": "text/x-python",
   "name": "python",
   "nbconvert_exporter": "python",
   "pygments_lexer": "ipython3",
   "version": "3.12.3"
  }
 },
 "nbformat": 4,
 "nbformat_minor": 2
}
