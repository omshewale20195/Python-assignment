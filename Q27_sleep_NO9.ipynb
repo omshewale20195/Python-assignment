{
 "cells": [
  {
   "cell_type": "code",
   "execution_count": 17,
   "metadata": {},
   "outputs": [
    {
     "name": "stdout",
     "output_type": "stream",
     "text": [
      "<class 'set'>\n",
      "Type of X {50, 20, 40, 10, 30}\n",
      "<class 'set'>\n",
      "Type of string: [60, 70, 80, 90, 100]\n",
      "<class 'list'>\n",
      "String Value: {50, 20, 40, 10, 30} [60, 70, 80, 90, 100]\n",
      "Add all its Elements into a given set: {100, 70, 40, 10, 80, 50, 20, 90, 60, 30}\n"
     ]
    }
   ],
   "source": [
    "\"\"\"27. Write a program to add all its elements into a given set\n",
    "Given\n",
    "x = {10,20,30,40,50}\n",
    "y = [60,70,80,90,100]\n",
    "Expected Output:\n",
    "X: {50, 20, 40, 10, 30}\n",
    "Type of X: <class 'set'>\n",
    "Y: [60, 70, 80, 90, 100]\n",
    "Type of Y: <class 'list'>\n",
    "Add all its Elements into a given set: {70, 10, 80, 20, 90, 30, 100, 40, 50, 60}\"\"\"\n",
    "x = {10,20,30,40,50}\n",
    "print(type(x))\n",
    "print(\"Type of X\",x)\n",
    "print(type(x))\n",
    "y = [60,70,80,90,100]\n",
    "print(\"Type of string:\",y)\n",
    "print(type(y))\n",
    "print(\"String Value:\", x,y)\n",
    "\n",
    "y_set=set(y)\n",
    "x.update(y_set)\n",
    "print(\"Add all its Elements into a given set:\",x)"
   ]
  },
  {
   "cell_type": "code",
   "execution_count": null,
   "metadata": {},
   "outputs": [],
   "source": []
  }
 ],
 "metadata": {
  "kernelspec": {
   "display_name": "Python 3",
   "language": "python",
   "name": "python3"
  },
  "language_info": {
   "codemirror_mode": {
    "name": "ipython",
    "version": 3
   },
   "file_extension": ".py",
   "mimetype": "text/x-python",
   "name": "python",
   "nbconvert_exporter": "python",
   "pygments_lexer": "ipython3",
   "version": "3.12.3"
  }
 },
 "nbformat": 4,
 "nbformat_minor": 2
}
