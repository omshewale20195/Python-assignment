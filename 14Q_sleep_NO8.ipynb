{
 "cells": [
  {
   "cell_type": "code",
   "execution_count": 4,
   "metadata": {},
   "outputs": [
    {
     "name": "stdout",
     "output_type": "stream",
     "text": [
      "('aditya', True, 12, 2342, 4546, 423.434, {'key': 'value'}, (1, 2, 3), '123457')\n"
     ]
    }
   ],
   "source": [
    "'''\n",
    "14. Write a Python program to add an item in a tuple\n",
    "'''\n",
    "\n",
    "mixed_tuple = (\"aditya\", True, 12, 2342, 4546, 423.434, {'key': 'value'}, (1, 2, 3))\n",
    "new_item = \"new_element\"\n",
    "updated_tuple = mixed_tuple + (\"123457\",)\n",
    "print(updated_tuple)\n"
   ]
  }
 ],
 "metadata": {
  "kernelspec": {
   "display_name": "Python 3",
   "language": "python",
   "name": "python3"
  },
  "language_info": {
   "codemirror_mode": {
    "name": "ipython",
    "version": 3
   },
   "file_extension": ".py",
   "mimetype": "text/x-python",
   "name": "python",
   "nbconvert_exporter": "python",
   "pygments_lexer": "ipython3",
   "version": "3.12.3"
  }
 },
 "nbformat": 4,
 "nbformat_minor": 2
}
