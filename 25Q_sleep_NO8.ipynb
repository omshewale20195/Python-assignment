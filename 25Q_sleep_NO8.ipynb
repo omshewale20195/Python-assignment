{
 "cells": [
  {
   "cell_type": "code",
   "execution_count": 1,
   "metadata": {},
   "outputs": [
    {
     "name": "stdout",
     "output_type": "stream",
     "text": [
      "(11, 33, 55)\n"
     ]
    }
   ],
   "source": [
    "\"\"\"\n",
    "25. Copy specific elements from one tuple to a new tuple\n",
    "\"\"\"\n",
    "tuple1 = (11, 22, 33, 44, 55)\n",
    "new_tuple = (tuple1[0], tuple1[2], tuple1[4])\n",
    "print(new_tuple)"
   ]
  }
 ],
 "metadata": {
  "kernelspec": {
   "display_name": "Python 3",
   "language": "python",
   "name": "python3"
  },
  "language_info": {
   "codemirror_mode": {
    "name": "ipython",
    "version": 3
   },
   "file_extension": ".py",
   "mimetype": "text/x-python",
   "name": "python",
   "nbconvert_exporter": "python",
   "pygments_lexer": "ipython3",
   "version": "3.12.3"
  }
 },
 "nbformat": 4,
 "nbformat_minor": 2
}
